{
 "cells": [
  {
   "cell_type": "code",
   "execution_count": 9,
   "metadata": {},
   "outputs": [],
   "source": [
    "import spacy\n",
    "import os\n",
    "from spacy.tokens import DocBin\n",
    "import json\n",
    "import pandas as pd\n",
    "import sys"
   ]
  },
  {
   "cell_type": "code",
   "execution_count": 4,
   "metadata": {},
   "outputs": [],
   "source": [
    "json_filepath = os.path.join('combined.json')\n",
    "json_file = open(json_filepath)\n",
    "\n",
    "training_data = json.load(json_file)"
   ]
  },
  {
   "cell_type": "code",
   "execution_count": 7,
   "metadata": {},
   "outputs": [],
   "source": [
    "def run_ner(training_data,\n",
    "            model_name=\"en_core_web_sm\", \n",
    "            train_spacy_filepath=\"./train.spacy\", \n",
    "            config_filepath=\"./config.cfg\", # ensure the config file has the correct model name\n",
    "            output_filepath=\"./output\"):\n",
    "    \n",
    "    !{sys.executable} -m spacy download {model_name}\n",
    "    \n",
    "    nlp = spacy.load(model_name)\n",
    "    db = DocBin()\n",
    "\n",
    "    for text, annot in training_data[\"annotations\"]:\n",
    "        doc = nlp.make_doc(text)\n",
    "        ents = []\n",
    "        for start, end, label in annot[\"entities\"]:\n",
    "            span = doc.char_span(start, end, label=label, alignment_mode=\"contract\")\n",
    "            if span is None:\n",
    "                print(\"Skipping entity\")\n",
    "            else:\n",
    "                ents.append(span)\n",
    "        doc.ents = ents\n",
    "        db.add(doc)\n",
    "\n",
    "    db.to_disk(train_spacy_filepath)\n",
    "\n",
    "    !{sys.executable} -m spacy train {config_filepath} --output {output_filepath} --paths.train {train_spacy_filepath} --paths.dev {train_spacy_filepath}"
   ]
  },
  {
   "cell_type": "code",
   "execution_count": null,
   "metadata": {},
   "outputs": [],
   "source": [
    "run_ner(training_data)"
   ]
  }
 ],
 "metadata": {
  "kernelspec": {
   "display_name": "Python 3",
   "language": "python",
   "name": "python3"
  },
  "language_info": {
   "codemirror_mode": {
    "name": "ipython",
    "version": 3
   },
   "file_extension": ".py",
   "mimetype": "text/x-python",
   "name": "python",
   "nbconvert_exporter": "python",
   "pygments_lexer": "ipython3",
   "version": "3.10.2"
  },
  "orig_nbformat": 4
 },
 "nbformat": 4,
 "nbformat_minor": 2
}
